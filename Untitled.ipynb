{
 "cells": [
  {
   "cell_type": "markdown",
   "metadata": {},
   "source": [
    "Get a list of coordinates covering the region 'bbox' below in circles with radius 'rad'"
   ]
  },
  {
   "cell_type": "markdown",
   "metadata": {},
   "source": [
    "## Healpix"
   ]
  },
  {
   "cell_type": "code",
   "execution_count": 3,
   "metadata": {},
   "outputs": [],
   "source": [
    "from astropy import units\n",
    "\n",
    "bbox = dict(ramin=21 * units.degree,\n",
    "            ramax=23 * units.degree,\n",
    "            decmin=32 * units.degree,\n",
    "            decmax=34 * units.degree)\n",
    "\n",
    "rad = 12 *units.arcmin"
   ]
  },
  {
   "cell_type": "code",
   "execution_count": 7,
   "metadata": {},
   "outputs": [
    {
     "name": "stdout",
     "output_type": "stream",
     "text": [
      "Healpix' level 9 corresponds to a size '6.871 arcmin'\n"
     ]
    }
   ],
   "source": [
    "# get the closest smaller size of healpix elements\n",
    "\n",
    "from moc import utils\n",
    "level = utils.size_to_level(rad)\n",
    "\n",
    "from moc import core\n",
    "dsize = core.HEALPIX_LEVELS[level]\n",
    "\n",
    "print(\"Healpix' level {:d} corresponds to a size '{}'\".format(level,dsize))"
   ]
  },
  {
   "cell_type": "code",
   "execution_count": 18,
   "metadata": {},
   "outputs": [],
   "source": [
    "# create a grid of (fake) coordinates, to then create a MOC table from it\n",
    "step_size = dsize.to('deg').value/2**0.5\n",
    "\n",
    "import numpy as np\n",
    "ra_vec = np.arange(bbox['ramin'].value, bbox['ramax'].value, step_size)\n",
    "dec_vec = np.arange(bbox['decmin'].value, bbox['decmax'].value, step_size)"
   ]
  },
  {
   "cell_type": "code",
   "execution_count": 19,
   "metadata": {},
   "outputs": [],
   "source": [
    "import itertools\n",
    "grid = list(itertools.product(ra_vec,dec_vec))"
   ]
  },
  {
   "cell_type": "code",
   "execution_count": 20,
   "metadata": {},
   "outputs": [],
   "source": [
    "from astropy.coordinates import SkyCoord\n",
    "coords = SkyCoord(grid,unit='deg')"
   ]
  },
  {
   "cell_type": "code",
   "execution_count": 21,
   "metadata": {},
   "outputs": [],
   "source": [
    "from mocpy import MOC\n",
    "moc = MOC.from_coo_list(coords, level)"
   ]
  },
  {
   "cell_type": "code",
   "execution_count": 22,
   "metadata": {},
   "outputs": [],
   "source": [
    "tmpfile = 'moc.json'\n",
    "moc.write(tmpfile, format='json')\n",
    "\n",
    "import json\n",
    "with open(tmpfile, 'r') as fp:\n",
    "    dmoc = json.load(fp)\n",
    "    \n",
    "import os\n",
    "os.remove(tmpfile)"
   ]
  },
  {
   "cell_type": "code",
   "execution_count": 26,
   "metadata": {},
   "outputs": [],
   "source": [
    "# Read the coordinates representing (center) each element of our interest\n",
    "\n",
    "from healpy import pixelfunc\n",
    "nside = 2**level\n",
    "\n",
    "moc_key = str(level)\n",
    "\n",
    "coords_to_visit = []\n",
    "for ipix in dmoc[moc_key]:\n",
    "    c = pixelfunc.pix2ang(nside, ipix, nest=True, lonlat=True)\n",
    "    coords_to_visit.append(c)\n",
    "    \n",
    "    ## We don't need the neighbours, but if that was the case:\n",
    "    #\n",
    "    #nipixs = pixelfunc.get_all_neighbours(nside, c[0], c[1], nest=True, lonlat=True)\n",
    "    #cns = []\n",
    "    #for nipix in nipixs:\n",
    "    #    cns.append(pixelfunc.pix2ang(nside, nipix, nest=True, lonlat=True))\n",
    "    #coords_to_visit.extend(cns)"
   ]
  },
  {
   "cell_type": "code",
   "execution_count": 27,
   "metadata": {},
   "outputs": [
    {
     "data": {
      "text/plain": [
       "[(21.796875, 32.001935834592025),\n",
       " (22.5, 32.001935834592025),\n",
       " (22.8515625, 32.001935834592025),\n",
       " (23.02734375, 32.001935834592025),\n",
       " (22.939453125, 32.089951256280301),\n",
       " (22.1484375, 32.001935834592025),\n",
       " (22.939453125, 32.442866138511782),\n",
       " (22.939453125, 32.797168295823639),\n",
       " (22.939453125, 33.152887928619876),\n",
       " (21.09375, 32.001935834592025),\n",
       " (21.4453125, 32.001935834592025),\n",
       " (20.91796875, 32.001935834592025),\n",
       " (21.005859375, 32.089951256280301),\n",
       " (21.005859375, 32.442866138511782),\n",
       " (21.005859375, 32.797168295823639),\n",
       " (20.91796875, 32.885964118038643),\n",
       " (21.005859375, 33.152887928619876),\n",
       " (21.005859375, 33.510056066253007),\n",
       " (20.91796875, 33.778901902884165),\n",
       " (21.005859375, 33.868704601656503),\n",
       " (21.09375, 33.958601870269824),\n",
       " (22.939453125, 33.510056066253007),\n",
       " (22.5, 33.958601870269824),\n",
       " (23.02734375, 33.778901902884165),\n",
       " (22.939453125, 33.868704601656503),\n",
       " (22.8515625, 33.958601870269824),\n",
       " (21.796875, 33.958601870269824),\n",
       " (22.1484375, 33.958601870269824),\n",
       " (21.4453125, 33.958601870269824)]"
      ]
     },
     "execution_count": 27,
     "metadata": {},
     "output_type": "execute_result"
    }
   ],
   "source": [
    "coords_to_visit"
   ]
  },
  {
   "cell_type": "code",
   "execution_count": null,
   "metadata": {},
   "outputs": [],
   "source": []
  }
 ],
 "metadata": {
  "kernelspec": {
   "display_name": "Python 3",
   "language": "python",
   "name": "python3"
  },
  "language_info": {
   "codemirror_mode": {
    "name": "ipython",
    "version": 3
   },
   "file_extension": ".py",
   "mimetype": "text/x-python",
   "name": "python",
   "nbconvert_exporter": "python",
   "pygments_lexer": "ipython3",
   "version": "3.6.3"
  }
 },
 "nbformat": 4,
 "nbformat_minor": 2
}
